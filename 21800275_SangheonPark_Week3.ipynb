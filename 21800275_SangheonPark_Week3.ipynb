{
 "cells": [
  {
   "cell_type": "markdown",
   "id": "43d007a4-1f35-4913-876e-1f8d5d58b271",
   "metadata": {},
   "source": [
    "## In-Class Activity 1: Lambda Functions"
   ]
  },
  {
   "cell_type": "code",
   "execution_count": 31,
   "id": "f7530454-cebb-45b4-bf4d-2efccecd0d7e",
   "metadata": {},
   "outputs": [
    {
     "name": "stdout",
     "output_type": "stream",
     "text": [
      "25\n",
      "25\n"
     ]
    }
   ],
   "source": [
    "def square(x):\n",
    "    return x ** 2\n",
    "\n",
    "print(square(5))\n",
    "\n",
    "square_lambda = lambda x: x ** 2\n",
    "print(square_lambda(5))"
   ]
  },
  {
   "cell_type": "code",
   "execution_count": 1,
   "id": "3a067f85-cfbb-4b28-9fb0-753528c51682",
   "metadata": {},
   "outputs": [
    {
     "name": "stdout",
     "output_type": "stream",
     "text": [
      "[2, 4, 6, 8]\n",
      "[2, 4]\n"
     ]
    }
   ],
   "source": [
    "numbers = [1, 2, 3, 4]\n",
    "doubled = list(map(lambda x: x * 2, numbers))\n",
    "print(doubled)\n",
    "\n",
    "even_numbers = list(filter(lambda x: x % 2 == 0, numbers))\n",
    "print(even_numbers)"
   ]
  },
  {
   "cell_type": "code",
   "execution_count": 2,
   "id": "9282987a-fe0b-47f0-bb08-a5c14654e426",
   "metadata": {},
   "outputs": [
    {
     "name": "stdout",
     "output_type": "stream",
     "text": [
      "30\n"
     ]
    }
   ],
   "source": [
    "x = lambda a, b: a * b\n",
    "\n",
    "print(x(5,6))"
   ]
  },
  {
   "cell_type": "code",
   "execution_count": 3,
   "id": "4ba83a2b-5b28-43a9-9770-b56e843b0a7c",
   "metadata": {},
   "outputs": [
    {
     "name": "stdout",
     "output_type": "stream",
     "text": [
      "[(2, 3), (1, 5), (3, 8)]\n",
      "[1, 4, 9, 16]\n"
     ]
    }
   ],
   "source": [
    "data = [(1,5), (2,3), (3,8)]\n",
    "sorted_data = sorted(data, key = lambda x: x[1])\n",
    "print(sorted_data)\n",
    "\n",
    "numbers = [1, 2, 3, 4]\n",
    "squared = list(map(lambda x: x ** 2, numbers))\n",
    "print(squared)"
   ]
  },
  {
   "cell_type": "markdown",
   "id": "f24cd741-dff3-4373-9090-30a82e5a3f47",
   "metadata": {},
   "source": [
    "## In-Class Activity 2: OOP in Python"
   ]
  },
  {
   "cell_type": "code",
   "execution_count": 4,
   "id": "02cda9d0-5b77-4bdf-92d6-25bad9402c1b",
   "metadata": {},
   "outputs": [
    {
     "name": "stdout",
     "output_type": "stream",
     "text": [
      "Parrot sats 'Chirp Crirp!'\n"
     ]
    }
   ],
   "source": [
    "class Bird:\n",
    "    def speak(self):\n",
    "        print(\"Bird makes a sound.\")\n",
    "\n",
    "class Parrot(Bird):\n",
    "    def speak(self):\n",
    "        print(\"Parrot sats 'Chirp Crirp!'\")\n",
    "\n",
    "p = Parrot()\n",
    "p.speak()"
   ]
  },
  {
   "cell_type": "code",
   "execution_count": 5,
   "id": "2f968427-4f00-4f15-859f-c90abd8e4d2f",
   "metadata": {},
   "outputs": [
    {
     "name": "stdout",
     "output_type": "stream",
     "text": [
      "5\n",
      "9\n"
     ]
    }
   ],
   "source": [
    "class Adder:\n",
    "    def add(self, a, b, c = 0):\n",
    "        return a+b+c\n",
    "\n",
    "a = Adder()\n",
    "print(a.add(2,3))\n",
    "print(a.add(2, 3, 4))"
   ]
  },
  {
   "cell_type": "code",
   "execution_count": 6,
   "id": "2a1b3f2f-2c09-420c-9325-25b6f43aeb6a",
   "metadata": {},
   "outputs": [
    {
     "name": "stdout",
     "output_type": "stream",
     "text": [
      "5\n",
      "9\n",
      "15\n"
     ]
    }
   ],
   "source": [
    "class Adder:\n",
    "    def add(self, *args):\n",
    "        return sum(args)\n",
    "\n",
    "a = Adder()\n",
    "print(a.add(2, 3))\n",
    "print(a.add(2, 3, 4))\n",
    "print(a.add(1, 2, 3, 4, 5))\n"
   ]
  },
  {
   "cell_type": "markdown",
   "id": "d00d36f6-a1bd-4eca-bdc8-9cddda64ded0",
   "metadata": {},
   "source": [
    "## In-Class Activity 3: Using NumPy"
   ]
  },
  {
   "cell_type": "code",
   "execution_count": 7,
   "id": "d1c8901c-4de0-4dfc-9351-d7b2b228a71f",
   "metadata": {},
   "outputs": [
    {
     "name": "stdout",
     "output_type": "stream",
     "text": [
      "Reshaped Array (5x5):\n",
      "[[ 1  2  3  4  5]\n",
      " [ 6  7  8  9 10]\n",
      " [11 12 13 14 15]\n",
      " [16 17 18 19 20]\n",
      " [21 22 23 24 25]]\n",
      "\n",
      "Middle 3x3 Sub-array:\n",
      "[[ 7  8  9]\n",
      " [12 13 14]\n",
      " [17 18 19]]\n",
      "\n",
      "Sum of the array: 325\n",
      "Max value: 25\n",
      "Min value: 1\n",
      "Mean value: 13.0\n",
      "\n",
      "random_arr:\n",
      "[[ 3 10  1 10  3]\n",
      " [ 3  4  6  9  7]\n",
      " [ 7  3  8  5  8]\n",
      " [10  2  5  7  8]\n",
      " [10  6  3  7  1]]\n",
      "\n",
      "Element-wise Addition:\n",
      "[[ 4 12  4 14  8]\n",
      " [ 9 11 14 18 17]\n",
      " [18 15 21 19 23]\n",
      " [26 19 23 26 28]\n",
      " [31 28 26 31 26]]\n",
      "\n",
      "Element-wise Multiplication:\n",
      "[[  3  20   3  40  15]\n",
      " [ 18  28  48  81  70]\n",
      " [ 77  36 104  70 120]\n",
      " [160  34  90 133 160]\n",
      " [210 132  69 168  25]]\n",
      "\n",
      "Element-wise Division:\n",
      "[[ 0.33333333  0.2         3.          0.4         1.66666667]\n",
      " [ 2.          1.75        1.33333333  1.          1.42857143]\n",
      " [ 1.57142857  4.          1.625       2.8         1.875     ]\n",
      " [ 1.6         8.5         3.6         2.71428571  2.5       ]\n",
      " [ 2.1         3.66666667  7.66666667  3.42857143 25.        ]]\n",
      "\n",
      "Broadcasted Result:\n",
      "[[ 2  3  4  5  6]\n",
      " [ 8  9 10 11 12]\n",
      " [14 15 16 17 18]\n",
      " [20 21 22 23 24]\n",
      " [26 27 28 29 30]]\n",
      "\n",
      "Dot Product of the Array with Itself: 5525\n",
      "\n",
      "Transposed Array:\n",
      "[[ 1  6 11 16 21]\n",
      " [ 2  7 12 17 22]\n",
      " [ 3  8 13 18 23]\n",
      " [ 4  9 14 19 24]\n",
      " [ 5 10 15 20 25]]\n",
      "\n",
      "Determinant of Transposed Array: 0.0\n"
     ]
    }
   ],
   "source": [
    "import numpy as np\n",
    "\n",
    "# Step 1: Create and reshape the array\n",
    "arr = np.arange(1, 26).reshape(5, 5)\n",
    "\n",
    "# Step 2: Extract middle 3x3 sub-array\n",
    "middle_sub_array = arr[1:4, 1:4]\n",
    "\n",
    "# Step 3: Find the sum of all elements\n",
    "sum_arr = np.sum(arr)\n",
    "\n",
    "# Step 4: Find the maximum and minimum values\n",
    "max_val = np.max(arr)\n",
    "min_val = np.min(arr)\n",
    "\n",
    "# Step 5: Calculate the mean of the array\n",
    "mean_val = np.mean(arr)\n",
    "\n",
    "# Step 6: Element-wise operations with random array\n",
    "random_arr = np.random.randint(1, 11, size=(5, 5))\n",
    "add_result = arr + random_arr\n",
    "multiply_result = arr * random_arr\n",
    "divide_result = arr / random_arr\n",
    "\n",
    "# Step 7: Broadcasting with a new 1D array\n",
    "broadcast_result = arr + np.array([1, 2, 3, 4, 5]).reshape(5, 1)\n",
    "\n",
    "# Step 8: Dot product of the original 1D array with itself\n",
    "dot_product = np.dot(arr.flatten(), arr.flatten())\n",
    "\n",
    "# Step 9: Transpose and determinant of the reshaped array\n",
    "transposed_arr = arr.T\n",
    "det_transposed = np.linalg.det(transposed_arr)\n",
    "\n",
    "# Output results\n",
    "print(\"Reshaped Array (5x5):\")\n",
    "print(arr)\n",
    "print(\"\\nMiddle 3x3 Sub-array:\")\n",
    "print(middle_sub_array)\n",
    "print(\"\\nSum of the array:\", sum_arr)\n",
    "print(\"Max value:\", max_val)\n",
    "print(\"Min value:\", min_val)\n",
    "print(\"Mean value:\", mean_val)\n",
    "print(\"\\nrandom_arr:\")\n",
    "print(random_arr)\n",
    "print(\"\\nElement-wise Addition:\")\n",
    "print(add_result)\n",
    "print(\"\\nElement-wise Multiplication:\")\n",
    "print(multiply_result)\n",
    "print(\"\\nElement-wise Division:\")\n",
    "print(divide_result)\n",
    "print(\"\\nBroadcasted Result:\")\n",
    "print(broadcast_result)\n",
    "print(\"\\nDot Product of the Array with Itself:\", dot_product)\n",
    "print(\"\\nTransposed Array:\")\n",
    "print(transposed_arr)\n",
    "print(\"\\nDeterminant of Transposed Array:\", det_transposed)"
   ]
  },
  {
   "cell_type": "markdown",
   "id": "e6740952-138c-4da2-809c-d467faa015ca",
   "metadata": {},
   "source": [
    "## In-Class Activity 4: Using NumPy"
   ]
  },
  {
   "cell_type": "code",
   "execution_count": 8,
   "id": "c1013bf5-7bd6-4be7-9279-172ce12e3cda",
   "metadata": {},
   "outputs": [],
   "source": [
    "import openpyxl\n",
    "\n",
    "file = openpyxl.load_workbook('./data_set_train-1.xlsx')\n",
    "ws = file.active\n",
    "\n",
    "data = []\n",
    "col = []\n",
    "\n",
    "for row in ws.iter_rows(max_row = 1):\n",
    "    for cell in row:\n",
    "        col.append(cell.value)\n",
    "\n",
    "for row in ws.iter_rows(min_row = 2):\n",
    "    ls = []\n",
    "    for cell in row:\n",
    "        ls.append(cell.value)\n",
    "    data.append(ls)"
   ]
  },
  {
   "cell_type": "code",
   "execution_count": 9,
   "id": "bf339b22-69d6-4bb8-94c0-e63c899eceb7",
   "metadata": {},
   "outputs": [
    {
     "data": {
      "text/plain": [
       "[['강남역우정에쉐르',\n",
       "  '2006Q1',\n",
       "  9000.0,\n",
       "  2004.0,\n",
       "  '역삼동',\n",
       "  17.23,\n",
       "  7.0,\n",
       "  37.4942041,\n",
       "  127.0435446,\n",
       "  225613.0,\n",
       "  6.3,\n",
       "  0.152880864,\n",
       "  5.55949463170584,\n",
       "  452.717843152131,\n",
       "  794.544848855622,\n",
       "  231.845431815105,\n",
       "  2395.0282409397,\n",
       "  291.146809661849,\n",
       "  1694.41981012148,\n",
       "  849.353652859484,\n",
       "  0.0,\n",
       "  52.0,\n",
       "  1.0,\n",
       "  0.75,\n",
       "  '개별난방',\n",
       "  536.0,\n",
       "  58.0,\n",
       "  13.0,\n",
       "  12.0]]"
      ]
     },
     "execution_count": 9,
     "metadata": {},
     "output_type": "execute_result"
    }
   ],
   "source": [
    "data[:1]"
   ]
  },
  {
   "cell_type": "code",
   "execution_count": 10,
   "id": "d0537d67-a901-480d-91a9-0875ff084523",
   "metadata": {},
   "outputs": [
    {
     "name": "stdout",
     "output_type": "stream",
     "text": [
      "<class 'list'>\n",
      "<class 'numpy.ndarray'>\n"
     ]
    }
   ],
   "source": [
    "print(type(data))\n",
    "arr = np.array(data)\n",
    "print(type(arr))"
   ]
  },
  {
   "cell_type": "code",
   "execution_count": 11,
   "id": "1536ad73-3343-4b9d-bc27-82e4d73e1a08",
   "metadata": {},
   "outputs": [
    {
     "data": {
      "text/plain": [
       "(17400, 29)"
      ]
     },
     "execution_count": 11,
     "metadata": {},
     "output_type": "execute_result"
    }
   ],
   "source": [
    "arr.shape"
   ]
  },
  {
   "cell_type": "code",
   "execution_count": 12,
   "id": "47b58b1f-c375-480c-a13d-1cc6bbb0d214",
   "metadata": {},
   "outputs": [
    {
     "data": {
      "text/plain": [
       "array([['강남역우정에쉐르', '2006Q1', '9000.0', ..., '7.0', '37.4942041',\n",
       "        '127.0435446'],\n",
       "       ['강남역우정에쉐르', '2006Q1', '9000.0', ..., '7.0', '37.4942041',\n",
       "        '127.0435446'],\n",
       "       ['개포주공1단지', '2006Q1', '73000.0', ..., '3.0', '37.4784072',\n",
       "        '127.061375'],\n",
       "       ...,\n",
       "       ['현대하이츠', '2017Q3', '64000.0', ..., '1.0', '37.4913789',\n",
       "        '127.0348797'],\n",
       "       ['현대한강', '2017Q3', '170000.0', ..., '8.0', '37.5246752',\n",
       "        '127.056226'],\n",
       "       ['현대한강', '2017Q3', '170000.0', ..., '8.0', '37.5246752',\n",
       "        '127.056226']], shape=(17400, 9), dtype='<U32')"
      ]
     },
     "execution_count": 12,
     "metadata": {},
     "output_type": "execute_result"
    }
   ],
   "source": [
    "dataset = arr[:,:9]\n",
    "dataset"
   ]
  },
  {
   "cell_type": "code",
   "execution_count": 13,
   "id": "034b1828-2e1e-4257-9343-e5dc48a7b271",
   "metadata": {},
   "outputs": [
    {
     "data": {
      "text/plain": [
       "(17400, 9)"
      ]
     },
     "execution_count": 13,
     "metadata": {},
     "output_type": "execute_result"
    }
   ],
   "source": [
    "dataset.shape"
   ]
  },
  {
   "cell_type": "markdown",
   "id": "ea687a49-3ac7-48e9-8461-e07190ac6b97",
   "metadata": {},
   "source": [
    "## In-Class Activity 5: Working with Matplotlib"
   ]
  },
  {
   "cell_type": "code",
   "execution_count": 14,
   "id": "21f8f3e8-3ce2-43a0-bdb3-681ebc2dec26",
   "metadata": {},
   "outputs": [
    {
     "data": {
      "image/png": "[encoded data removed]",
      "text/plain": [
       "<Figure size 640x480 with 1 Axes>"
      ]
     },
     "metadata": {},
     "output_type": "display_data"
    }
   ],
   "source": [
    "import matplotlib.pyplot as plt\n",
    "\n",
    "np.random.seed(500)\n",
    "N = 50\n",
    "x = np.random.rand(N)\n",
    "y = np.random.rand(N)\n",
    "\n",
    "plt.scatter(x, y, c = 'black', alpha = 0.5)\n",
    "plt.show()"
   ]
  },
  {
   "cell_type": "markdown",
   "id": "843fd1bc-181c-43ea-8c97-a0887ed5a395",
   "metadata": {},
   "source": [
    "## In-Class Activity 6: Working with Matplotlib"
   ]
  },
  {
   "cell_type": "code",
   "execution_count": 15,
   "id": "bf132b2d-a325-4100-ac94-3a0bf17519c4",
   "metadata": {},
   "outputs": [
    {
     "data": {
      "image/png": "[encoded data removed]",
      "text/plain": [
       "<Figure size 640x480 with 1 Axes>"
      ]
     },
     "metadata": {},
     "output_type": "display_data"
    }
   ],
   "source": [
    "year2018 = [1, 5, 8, 9, 7, 11, 8, 12, 14, 9, 5]\n",
    "year2019 = [3, 7, 9, 6, 4, 5, 14 ,7 ,6 ,16, 12]\n",
    "\n",
    "plt.plot(range(1, 12), year2018, color = 'black', label = 'year 2018')\n",
    "plt.plot(range(1, 12), year2019, color = 'red', alpha = 0.6, label = 'year 2019')\n",
    "\n",
    "plt.scatter(range(1, 12), year2019, color = 'black', alpha = 0.5)\n",
    "plt.scatter(range(1, 12), year2018, color = 'orange', alpha = 0.5)\n",
    "\n",
    "plt.title('Yearly Data Comparison')\n",
    "plt.xlabel('Month')\n",
    "plt.ylabel('Value')\n",
    "plt.legend(loc = 'lower right')\n",
    "plt.show()"
   ]
  },
  {
   "cell_type": "markdown",
   "id": "391ca2fc-96a9-4b31-9665-e5da3dd852c7",
   "metadata": {},
   "source": [
    "## In-Class Activity 7: Working with Matplotlib"
   ]
  },
  {
   "cell_type": "code",
   "execution_count": 16,
   "id": "b32cd5ca-47a3-4c45-a1b2-d5bb78039ad3",
   "metadata": {},
   "outputs": [
    {
     "data": {
      "image/png": "[encoded data removed]",
      "text/plain": [
       "<Figure size 1000x500 with 2 Axes>"
      ]
     },
     "metadata": {},
     "output_type": "display_data"
    }
   ],
   "source": [
    "plt.figure(figsize = (10, 5))\n",
    "\n",
    "plt.subplot(1, 2, 1)\n",
    "plt.xlim([-1, 1])\n",
    "plt.ylim([-0.5, 2.5])\n",
    "\n",
    "plt.subplot(1, 2, 2)\n",
    "plt.ylabel(\"Y-axis\")\n",
    "plt.xlabel(\"X-axis\")\n",
    "plt.title(\"Hanse\")\n",
    "\n",
    "plt.show()"
   ]
  },
  {
   "cell_type": "code",
   "execution_count": 17,
   "id": "1a27394d-0d40-40c2-9fae-f9ae3d94fb97",
   "metadata": {
    "scrolled": true
   },
   "outputs": [
    {
     "name": "stdout",
     "output_type": "stream",
     "text": [
      "55\n"
     ]
    }
   ],
   "source": [
    "def sum_n(n):\n",
    "    total = 0\n",
    "    for i in range(n+1):\n",
    "        total += i\n",
    "    return total\n",
    "\n",
    "print(sum_n(10))"
   ]
  },
  {
   "cell_type": "markdown",
   "id": "7aabe5fc-b05c-4cfd-b788-089cff6bb336",
   "metadata": {},
   "source": [
    "## Exercise 1"
   ]
  },
  {
   "cell_type": "code",
   "execution_count": 18,
   "id": "107a9da9-f9eb-436d-bee2-0f8a8bcb0b00",
   "metadata": {},
   "outputs": [
    {
     "name": "stdout",
     "output_type": "stream",
     "text": [
      "Odd\n",
      "Even\n"
     ]
    }
   ],
   "source": [
    "# def is_odd(num):\n",
    "#     string = \"Odd\"\n",
    "#     if num % 2 == 0:\n",
    "#         string = \"Even\"\n",
    "#     return string\n",
    "\n",
    "def is_odd(num):\n",
    "    return \"Even\" if num % 2 == 0 else \"Odd\"\n",
    "    \n",
    "print(is_odd(3))\n",
    "print(is_odd(8))"
   ]
  },
  {
   "cell_type": "markdown",
   "id": "630b10ab-8b61-401e-b8d6-3cf7259226fd",
   "metadata": {},
   "source": [
    "## Exercise 2: Slice by Condition"
   ]
  },
  {
   "cell_type": "code",
   "execution_count": 19,
   "id": "98c96ce9-c071-43b9-b754-974eef851ae6",
   "metadata": {},
   "outputs": [],
   "source": [
    "import openpyxl\n",
    "\n",
    "file = openpyxl.load_workbook('./data_set_train-1.xlsx')\n",
    "ws = file.active\n",
    "\n",
    "data = []\n",
    "col = []\n",
    "\n",
    "for row in ws.iter_rows(max_row = 1):\n",
    "    for cell in row:\n",
    "        col.append(cell.value)\n",
    "\n",
    "for row in ws.iter_rows(min_row = 2):\n",
    "    ls = []\n",
    "    for cell in row:\n",
    "        ls.append(cell.value)\n",
    "    data.append(ls)"
   ]
  },
  {
   "cell_type": "code",
   "execution_count": 20,
   "id": "07a2b69e-8d58-4b62-9447-016345ec85df",
   "metadata": {},
   "outputs": [
    {
     "name": "stdout",
     "output_type": "stream",
     "text": [
      "0 aptnm(아파트 이름)\n",
      "1 yyyyqrt(거래년도 분기별)\n",
      "2 price(가격)\n",
      "3 con_year(건축년도)\n",
      "4 dong(동)\n",
      "5 area(면적)\n",
      "6 floor(층수)\n",
      "7 Latitude(위도)\n",
      "8 Longtitude(경도)\n",
      "9 gdp\n",
      "10 e_grwth(경제성장률)\n",
      "11 Seoul_l.rate(지가상승률)\n",
      "12 house_rate(담보대출금리)\n",
      "13 dis_park(국립 공원과의 거리)\n",
      "14 dis_highschool(고등학교와의 거리)\n",
      "15 dis_reconst(재개발 지역과의 거리)\n",
      "16 dis_univ(대학과의 거리)\n",
      "17 dis_hospital(종합 병원과의 거리)\n",
      "18 dis_museum(국립 박물관과의 거리)\n",
      "19 dis_subway(지하철역과의 거리)\n",
      "20 brand_r(유명 아파트 브랜드순)\n",
      "21 n_home(세대수)\n",
      "22 n_dong(동수)\n",
      "23 parking_per(세대별 주차장수)\n",
      "24 Heater(난방 시스템)\n",
      "25 Yongpae(용적률)\n",
      "26 Gunpae(건폐율)\n",
      "27 Highest(최고층)\n",
      "28 Lowest(최저층)\n"
     ]
    }
   ],
   "source": [
    "for i in range(len(col)):\n",
    "    print(i, col[i])\n",
    "    "
   ]
  },
  {
   "cell_type": "code",
   "execution_count": 21,
   "id": "444f9ad1-6bd9-45d4-bfea-853f0b95213e",
   "metadata": {},
   "outputs": [
    {
     "data": {
      "text/plain": [
       "array([['강남역우정에쉐르', '2006Q1', '9000.0', ..., '7.0', '37.4942041',\n",
       "        '127.0435446'],\n",
       "       ['강남역우정에쉐르', '2006Q1', '9000.0', ..., '7.0', '37.4942041',\n",
       "        '127.0435446'],\n",
       "       ['개포주공1단지', '2006Q1', '73000.0', ..., '3.0', '37.4784072',\n",
       "        '127.061375'],\n",
       "       ...,\n",
       "       ['현대빌라트', '2006Q4', '125000.0', ..., '3.0', '37.5179279',\n",
       "        '127.0428004'],\n",
       "       ['현대빌라트', '2006Q4', '125000.0', ..., '3.0', '37.5179279',\n",
       "        '127.0428004'],\n",
       "       ['현대빌라트', '2006Q4', '125000.0', ..., '3.0', '37.5179279',\n",
       "        '127.0428004']], shape=(2617, 9), dtype='<U32')"
      ]
     },
     "execution_count": 21,
     "metadata": {},
     "output_type": "execute_result"
    }
   ],
   "source": [
    "dataset = np.array(data)\n",
    "dataset_2006 = dataset[np.char.find(dataset[: , 1], \"2006\") >= 0, :9]\n",
    "dataset_2006"
   ]
  },
  {
   "cell_type": "code",
   "execution_count": 22,
   "id": "050a6050-8849-411a-9b64-d7de171aaa72",
   "metadata": {},
   "outputs": [
    {
     "data": {
      "text/plain": [
       "(2617, 9)"
      ]
     },
     "execution_count": 22,
     "metadata": {},
     "output_type": "execute_result"
    }
   ],
   "source": [
    "dataset_2006.shape"
   ]
  },
  {
   "cell_type": "markdown",
   "id": "3af65204-cd68-43ab-87b2-50ad1a90058b",
   "metadata": {},
   "source": [
    "## Exercise 3: Convert Types of ndarrays"
   ]
  },
  {
   "cell_type": "code",
   "execution_count": 23,
   "id": "d92db0d1-d09a-4633-af66-8dab9eef552e",
   "metadata": {
    "scrolled": true
   },
   "outputs": [
    {
     "name": "stdout",
     "output_type": "stream",
     "text": [
      "price float64\n",
      "dis_sub float64\n"
     ]
    },
    {
     "data": {
      "text/plain": [
       "array([[1.        , 0.03241268],\n",
       "       [0.03241268, 1.        ]])"
      ]
     },
     "execution_count": 23,
     "metadata": {},
     "output_type": "execute_result"
    }
   ],
   "source": [
    "price = dataset[:,2].astype(np.float64)\n",
    "dis_sub = dataset[:,19].astype(np.float64)\n",
    "\n",
    "print(\"price\", price.dtype)\n",
    "print(\"dis_sub\", dis_sub.dtype)\n",
    "\n",
    "np.corrcoef(price, dis_sub)"
   ]
  },
  {
   "cell_type": "markdown",
   "id": "6f374fe4-bd0d-4b0f-9412-ff0868f24f9c",
   "metadata": {},
   "source": [
    "## Exercise 4: Yearly Average Price"
   ]
  },
  {
   "cell_type": "code",
   "execution_count": 24,
   "id": "cf4f8fd9-4643-4b71-a172-f23ef73e3f91",
   "metadata": {},
   "outputs": [
    {
     "name": "stdout",
     "output_type": "stream",
     "text": [
      "2006 Yearly Average Price:  67076.57928926252\n",
      "2007 Yearly Average Price:  58405.71893939394\n",
      "2008 Yearly Average Price:  66136.66583747928\n",
      "2009 Yearly Average Price:  83060.50290939318\n",
      "2010 Yearly Average Price:  77282.02958093672\n",
      "2011 Yearly Average Price:  76748.97150610584\n",
      "2012 Yearly Average Price:  72714.51982378855\n",
      "2013 Yearly Average Price:  78839.01584905661\n",
      "2014 Yearly Average Price:  84002.69641434263\n",
      "2015 Yearly Average Price:  87213.44117647059\n",
      "2016 Yearly Average Price:  97149.95279838167\n",
      "2017 Yearly Average Price:  114656.7944877172\n"
     ]
    }
   ],
   "source": [
    "years = np.arange(2006, 2018, 1)\n",
    "years = years.astype(str)\n",
    "\n",
    "for i in years:\n",
    "    print(i, \"Yearly Average Price: \", np.mean(price[np.char.find(dataset[: , 1], i) >= 0]))\n",
    "        "
   ]
  },
  {
   "cell_type": "markdown",
   "id": "4795fce9-c908-4c50-9fa8-6eaf3f3e57b6",
   "metadata": {},
   "source": [
    "## Exercise 5: Quarterly Average Price"
   ]
  },
  {
   "cell_type": "code",
   "execution_count": 25,
   "id": "25dcb4f7-ae93-49bd-a372-72a343055406",
   "metadata": {
    "scrolled": true
   },
   "outputs": [
    {
     "name": "stdout",
     "output_type": "stream",
     "text": [
      "2006Q1 Quarterly Average Price:  65661.1664\t2006Q2 Quarterly Average Price:  59592.4875\t2006Q3 Quarterly Average Price:  62410.7243\t\n",
      "2006Q4 Quarterly Average Price:  79588.8299\t2007Q1 Quarterly Average Price:  47336.3963\t2007Q2 Quarterly Average Price:  65344.6074\t\n",
      "2007Q3 Quarterly Average Price:  58634.6921\t2007Q4 Quarterly Average Price:  59687.8912\t2008Q1 Quarterly Average Price:  63515.5766\t\n",
      "2008Q2 Quarterly Average Price:  62458.8462\t2008Q3 Quarterly Average Price:  72233.9635\t2008Q4 Quarterly Average Price:  72608.6237\t\n",
      "2009Q1 Quarterly Average Price:  85574.7692\t2009Q2 Quarterly Average Price:  84314.4224\t2009Q3 Quarterly Average Price:  83246.4746\t\n",
      "2009Q4 Quarterly Average Price:  78589.3036\t2010Q1 Quarterly Average Price:  80386.7252\t2010Q2 Quarterly Average Price:  71885.8216\t\n",
      "2010Q3 Quarterly Average Price:  72697.5806\t2010Q4 Quarterly Average Price:  82475.984\t2011Q1 Quarterly Average Price:  77359.4958\t\n",
      "2011Q2 Quarterly Average Price:  68071.2436\t2011Q3 Quarterly Average Price:  78499.7708\t2011Q4 Quarterly Average Price:  82607.8638\t\n",
      "2012Q1 Quarterly Average Price:  73633.6134\t2012Q2 Quarterly Average Price:  73102.3466\t2012Q3 Quarterly Average Price:  78050.4902\t\n",
      "2012Q4 Quarterly Average Price:  69313.774\t2013Q1 Quarterly Average Price:  77980.5108\t2013Q2 Quarterly Average Price:  76391.8533\t\n",
      "2013Q3 Quarterly Average Price:  76638.4723\t2013Q4 Quarterly Average Price:  84570.1393\t2014Q1 Quarterly Average Price:  84038.7697\t\n",
      "2014Q2 Quarterly Average Price:  81931.4027\t2014Q3 Quarterly Average Price:  79218.3553\t2014Q4 Quarterly Average Price:  90134.3929\t\n",
      "2015Q1 Quarterly Average Price:  76180.1351\t2015Q2 Quarterly Average Price:  81677.284\t2015Q3 Quarterly Average Price:  98509.4316\t\n",
      "2015Q4 Quarterly Average Price:  93279.7126\t2016Q1 Quarterly Average Price:  87456.0668\t2016Q2 Quarterly Average Price:  94492.7371\t\n",
      "2016Q3 Quarterly Average Price:  104774.821\t2016Q4 Quarterly Average Price:  102236.9281\t2017Q1 Quarterly Average Price:  113074.1538\t\n",
      "2017Q2 Quarterly Average Price:  110766.6667\t2017Q3 Quarterly Average Price:  124098.4375\t"
     ]
    }
   ],
   "source": [
    "quarters = np.array([\"Q1\", \"Q2\", \"Q3\", \"Q4\"])\n",
    "arr_size = len(years) * len(quarters) - 1\n",
    "avg_Price_per_quarter = np.zeros(arr_size)\n",
    "num_Price_per_quarter = np.zeros(arr_size)\n",
    "string_year_quarter = []\n",
    "num_Transactions = np.zeros(arr_size)\n",
    "\n",
    "for i in range(arr_size):\n",
    "    string_year_quarter.append(years[i//4] + quarters[i%4])\n",
    "    num_Price_per_quarter[i] = len(price[np.char.find(dataset[: , 1], string_year_quarter[i]) >= 0])\n",
    "    avg_Price_per_quarter[i] = np.mean(price[np.char.find(dataset[: , 1], string_year_quarter[i]) >= 0])\n",
    "    if i%3 == 0 and i != 0:\n",
    "        print();\n",
    "    print(string_year_quarter[i], \"Quarterly Average Price: \", round(avg_Price_per_quarter[i],4), end = \"\\t\")"
   ]
  },
  {
   "cell_type": "markdown",
   "id": "13b3aae3-5340-4d4a-9fa6-b1e3b990c4b9",
   "metadata": {},
   "source": [
    "## Exercise 6: Quarterly Price Graph & Histogram"
   ]
  },
  {
   "cell_type": "code",
   "execution_count": 26,
   "id": "958d6a36-c8b7-4d9a-8b83-7caddb90dd93",
   "metadata": {
    "scrolled": true
   },
   "outputs": [
    {
     "data": {
      "image/png": "[encoded data removed]",
      "text/plain": [
       "<Figure size 2000x1000 with 2 Axes>"
      ]
     },
     "metadata": {},
     "output_type": "display_data"
    }
   ],
   "source": [
    "import matplotlib.pyplot as plt\n",
    "\n",
    "ticks = range(0, len(string_year_quarter), 4)\n",
    "labels = []\n",
    "for i in ticks:\n",
    "    labels.append(string_year_quarter[i])\n",
    "    \n",
    "plt.figure(figsize = (20, 10))\n",
    "\n",
    "plt.subplot(2, 1, 1)\n",
    "plt.bar(string_year_quarter, num_Price_per_quarter, color = 'black', alpha = 0.7)\n",
    "plt.xticks(ticks=ticks, labels=labels)\n",
    "plt.ylabel('Number of Transactions')\n",
    "\n",
    "\n",
    "plt.subplot(2, 1, 2)\n",
    "plt.plot(string_year_quarter, avg_Price_per_quarter, color = 'red')\n",
    "plt.scatter(string_year_quarter, avg_Price_per_quarter, color = 'black')\n",
    "plt.xticks(ticks=ticks, labels=labels)\n",
    "plt.ylabel('Average Price')\n",
    "\n",
    "plt.show()"
   ]
  },
  {
   "cell_type": "markdown",
   "id": "72acf526-5536-4450-a84e-2a8f14db42ab",
   "metadata": {},
   "source": [
    "## Exercise 7: Using NumPy"
   ]
  },
  {
   "cell_type": "code",
   "execution_count": 27,
   "id": "b373e309-3022-4a67-aa51-64b5c58a5207",
   "metadata": {},
   "outputs": [
    {
     "name": "stdout",
     "output_type": "stream",
     "text": [
      "[ 1  2  3  4  5  6  7  8  9 10 11 12]\n",
      "[['강남역우정에쉐르' '2006Q1' '9000.0' ... '15.0' '5.0' '5.0']\n",
      " ['개포주공1단지' '2008Q2' '128000.0' ... '16.0' '5.0' '5.0']\n",
      " ['개포주공4단지' '2011Q4' '60500.0' ... '18.0' '22.0' '12.0']\n",
      " ['역삼래미안' '2015Q1' '71000.0' ... 'NA' '10.0' '10.0']]\n"
     ]
    }
   ],
   "source": [
    "# Reshaping\n",
    "arr1 = np.array(range(1,13,1))\n",
    "print(arr1)\n",
    "arr1 = arr.reshape((4, -1))\n",
    "print(arr1)"
   ]
  },
  {
   "cell_type": "code",
   "execution_count": 28,
   "id": "67315f06-3aca-45fc-9aff-c0afcac16008",
   "metadata": {},
   "outputs": [
    {
     "name": "stdout",
     "output_type": "stream",
     "text": [
      "[[ 6  7]\n",
      " [10 11]]\n"
     ]
    }
   ],
   "source": [
    "# Extracting\n",
    "arr2 = np.array(range(1,17,1)).reshape((4, 4))\n",
    "print(arr2[1:3, 1:3])"
   ]
  },
  {
   "cell_type": "code",
   "execution_count": 29,
   "id": "0c4d8ca5-fb06-4ce0-9316-ae3b2124253e",
   "metadata": {},
   "outputs": [
    {
     "name": "stdout",
     "output_type": "stream",
     "text": [
      "[[14 15 16 17]\n",
      " [20 21 22 23]]\n"
     ]
    }
   ],
   "source": [
    "# Reshape, Slice Rows, Slice Columns\n",
    "arr3 = np.array(range(1,25,1)).reshape((4, 6)) # Create a 4×6 NumPy array with values from 1 to 24\n",
    "arr3 = arr3[len(arr3) - 2:, :] # Extract the last two rows\n",
    "arr3 = arr3[:, (len(arr3[0])//2 - 2) : (len(arr3[0])//2 + 2)] # From the extracted rows, select only the middle four columns\n",
    "print(arr3)"
   ]
  },
  {
   "cell_type": "code",
   "execution_count": null,
   "id": "ca6cd723-2f16-499b-b7b4-850be45bc26f",
   "metadata": {},
   "outputs": [
    {
     "name": "stdout",
     "output_type": "stream",
     "text": [
      "[[ 1  2  6  7 11 12 16 17 21 22]]\n"
     ]
    }
   ],
   "source": [
    "# Reshape, Slice First Two Columns, Reshape Again\n",
    "arr4 = np.array(range(1,26,1)).reshape((5, 5)) # Create a 5×5 NumPy array with values from 1 to 25\n",
    "arr4 = arr4[:, :2] # Extract the first two columns\n",
    "arr4 = arr4.reshape(1,-1) # Reshape the extracted data into a 1D array\n",
    "print(arr4)"
   ]
  }
 ],
 "metadata": {
  "kernelspec": {
   "display_name": "py311",
   "language": "python",
   "name": "python3"
  },
  "language_info": {
   "codemirror_mode": {
    "name": "ipython",
    "version": 3
   },
   "file_extension": ".py",
   "mimetype": "text/x-python",
   "name": "python",
   "nbconvert_exporter": "python",
   "pygments_lexer": "ipython3",
   "version": "3.11.11"
  }
 },
 "nbformat": 4,
 "nbformat_minor": 5
}
