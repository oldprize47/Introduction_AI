{
 "cells": [
  {
   "cell_type": "code",
   "execution_count": 174,
   "id": "30bb6a95",
   "metadata": {},
   "outputs": [],
   "source": [
    "## Toy dataset\n",
    "train_data = [\n",
    "    ['Green', 3, 'Apple'],\n",
    "    ['Yellow', 3, 'Apple'],\n",
    "    ['Red', 1, 'Grape'],\n",
    "    ['Red', 1, 'Grape'],\n",
    "    ['Yellow', 3, 'Lemon'],\n",
    "    ['Yellow', 4, 'Lemon'],\n",
    "]"
   ]
  },
  {
   "cell_type": "code",
   "execution_count": 175,
   "id": "645581db",
   "metadata": {},
   "outputs": [],
   "source": [
    "columns = ['color', 'diameter', 'label']"
   ]
  },
  {
   "cell_type": "code",
   "execution_count": 176,
   "id": "2e67cfab",
   "metadata": {},
   "outputs": [],
   "source": [
    "def unique_vals(rows, col):\n",
    "    '''\n",
    "    rows: list of row data\n",
    "    col: the index of column that we want to find\n",
    "    '''\n",
    "    return set([row[col] for row in rows])"
   ]
  },
  {
   "cell_type": "code",
   "execution_count": 177,
   "id": "509ec769",
   "metadata": {},
   "outputs": [
    {
     "data": {
      "text/plain": [
       "{'Green', 'Red', 'Yellow'}"
      ]
     },
     "execution_count": 177,
     "metadata": {},
     "output_type": "execute_result"
    }
   ],
   "source": [
    "unique_vals(train_data, 0)"
   ]
  },
  {
   "cell_type": "code",
   "execution_count": 178,
   "id": "034c4c0e",
   "metadata": {},
   "outputs": [],
   "source": [
    "def class_count(rows):\n",
    "    \"\"\"\n",
    "    Counts the number of each type of example in a dataset.\n",
    "    rows: list of row data\n",
    "    \"\"\"\n",
    "    counts = {}\n",
    "    for row in rows:\n",
    "        label = row[-1]\n",
    "        if label not in counts:\n",
    "            counts[label] = 0\n",
    "        counts[label] += 1\n",
    "    return counts"
   ]
  },
  {
   "cell_type": "code",
   "execution_count": 179,
   "id": "5ffa775c",
   "metadata": {},
   "outputs": [
    {
     "data": {
      "text/plain": [
       "{'Apple': 2, 'Grape': 2, 'Lemon': 2}"
      ]
     },
     "execution_count": 179,
     "metadata": {},
     "output_type": "execute_result"
    }
   ],
   "source": [
    "class_count(train_data)"
   ]
  },
  {
   "cell_type": "code",
   "execution_count": 180,
   "id": "ed08a982",
   "metadata": {},
   "outputs": [],
   "source": [
    "def is_numeric(value):\n",
    "    return isinstance(value,int) or isinstance(value,float)"
   ]
  },
  {
   "cell_type": "code",
   "execution_count": 181,
   "id": "a840e7a2",
   "metadata": {},
   "outputs": [
    {
     "name": "stdout",
     "output_type": "stream",
     "text": [
      "True False\n"
     ]
    }
   ],
   "source": [
    "print(is_numeric(7), is_numeric('Blue'))"
   ]
  },
  {
   "cell_type": "code",
   "execution_count": 182,
   "id": "dc3bb0bf",
   "metadata": {},
   "outputs": [],
   "source": [
    "import numpy as np\n",
    "from math import log2, e"
   ]
  },
  {
   "cell_type": "code",
   "execution_count": 183,
   "id": "b406cad7",
   "metadata": {},
   "outputs": [],
   "source": [
    "def entropy(labels, base=None):\n",
    "    \"\"\" Computes entropy of label distribution.\n",
    "    Arguments:\n",
    "    labels -- List of data's label    \n",
    "    \"\"\"\n",
    "\n",
    "    n_labels = len(labels)\n",
    "\n",
    "    if n_labels <= 1:\n",
    "        return 0\n",
    "    \n",
    "    counts = class_count(labels)\n",
    "    probs = [counts[key]/n_labels for key in counts.keys()]\n",
    "\n",
    "    n_classes = np.count_nonzero(probs)\n",
    "\n",
    "    if n_classes <= 1:\n",
    "        return 0\n",
    "    \n",
    "    ent = 0\n",
    "\n",
    "    for i in probs:\n",
    "        ent -= i * log2(i)\n",
    "\n",
    "    return ent"
   ]
  },
  {
   "cell_type": "code",
   "execution_count": 184,
   "id": "5f31fe25",
   "metadata": {},
   "outputs": [
    {
     "data": {
      "text/plain": [
       "0"
      ]
     },
     "execution_count": 184,
     "metadata": {},
     "output_type": "execute_result"
    }
   ],
   "source": [
    "pure = [['Apple'], ['Apple']]\n",
    "entropy(pure)"
   ]
  },
  {
   "cell_type": "code",
   "execution_count": 185,
   "id": "b9187eb6",
   "metadata": {},
   "outputs": [
    {
     "data": {
      "text/plain": [
       "1.0"
      ]
     },
     "execution_count": 185,
     "metadata": {},
     "output_type": "execute_result"
    }
   ],
   "source": [
    "impure = [['Apple'], ['Orange']]\n",
    "entropy(impure)"
   ]
  },
  {
   "cell_type": "code",
   "execution_count": 186,
   "id": "67476a27",
   "metadata": {},
   "outputs": [
    {
     "data": {
      "text/plain": [
       "2.321928094887362"
      ]
     },
     "execution_count": 186,
     "metadata": {},
     "output_type": "execute_result"
    }
   ],
   "source": [
    "impure = [['Apple'], ['Orange'], ['Grape'], ['Grapefruit'], ['Blueberry']]\n",
    "entropy(impure)"
   ]
  },
  {
   "cell_type": "code",
   "execution_count": 187,
   "id": "d40c136a",
   "metadata": {},
   "outputs": [],
   "source": [
    "def info_gain(left, right, current_uncertainty):\n",
    "    \"\"\" Information Gain.\n",
    "    IG = The uncertainty of the starting node - the weighted impurity of two child nodes.\n",
    "    \"\"\"\n",
    "    p = float(len(left)) / (len(left) + len(right))\n",
    "\n",
    "    print(\"(1) Avg of Impurity = {:.4f} * {:.4f} + {:.4f} * {:.4f}\".format(\n",
    "        p, entropy(left), (1-p), entropy(right)))\n",
    "    \n",
    "    print(\"(2) Current uncertainty = {:.4f}\".format(current_uncertainty))\n",
    "\n",
    "    IG = current_uncertainty - (p * entropy(left) + (1-p) * entropy(right))\n",
    "\n",
    "    print(\"(3) Information gain = {:.4f}\".format(IG))\n",
    "\n",
    "    return IG"
   ]
  },
  {
   "cell_type": "code",
   "execution_count": 188,
   "id": "89e449f2",
   "metadata": {},
   "outputs": [
    {
     "name": "stdout",
     "output_type": "stream",
     "text": [
      "\n",
      "Current uncertainty ==> 1.5850\n"
     ]
    }
   ],
   "source": [
    "current_uncertainty = entropy(train_data)\n",
    "print(\"\\nCurrent uncertainty ==> {:.4f}\".format(current_uncertainty))"
   ]
  },
  {
   "cell_type": "code",
   "execution_count": 189,
   "id": "03ce4c41",
   "metadata": {},
   "outputs": [],
   "source": [
    "class Query:\n",
    "    def __init__(self, column, value):\n",
    "        self.column = column\n",
    "        self.value = value\n",
    "\n",
    "    def compare_with_query(self, example):\n",
    "        '''\n",
    "        Arguments:\n",
    "        example -- List of row data (EX. ['Blue', 2, 'Blueberry'])\n",
    "        '''\n",
    "        val = example[self.column]\n",
    "        if is_numeric(val):\n",
    "            return val >= self.value\n",
    "        else:\n",
    "            return val == self.value\n",
    "        \n",
    "    def __repr__(self):\n",
    "        condition = \"==\"\n",
    "        if is_numeric(self.value):\n",
    "            condition = \">=\"\n",
    "        return \"Is {} {} {}?\".format(columns[self.column], condition, str(self.value))"
   ]
  },
  {
   "cell_type": "code",
   "execution_count": 190,
   "id": "77dd0ac2",
   "metadata": {},
   "outputs": [
    {
     "data": {
      "text/plain": [
       "Is diameter >= 3?"
      ]
     },
     "execution_count": 190,
     "metadata": {},
     "output_type": "execute_result"
    }
   ],
   "source": [
    "Query(1, 3)"
   ]
  },
  {
   "cell_type": "code",
   "execution_count": 191,
   "id": "26473e8a",
   "metadata": {},
   "outputs": [
    {
     "data": {
      "text/plain": [
       "Is color == Green?"
      ]
     },
     "execution_count": 191,
     "metadata": {},
     "output_type": "execute_result"
    }
   ],
   "source": [
    "Query(0, 'Green')"
   ]
  },
  {
   "cell_type": "code",
   "execution_count": 192,
   "id": "e448f924",
   "metadata": {},
   "outputs": [],
   "source": [
    "def partition(rows, query):\n",
    "    \"\"\"\n",
    "    Partitions a dataset\n",
    "    Arguments:\n",
    "    rows -- List of row data\n",
    "    query -- An object of Query class\n",
    "    \"\"\"\n",
    "    true_rows, false_rows = [], []\n",
    "    for row in rows:\n",
    "        if query.compare_with_query(row):\n",
    "            true_rows.append(row)\n",
    "        else:\n",
    "            false_rows.append(row)\n",
    "    return true_rows, false_rows"
   ]
  },
  {
   "cell_type": "code",
   "execution_count": 193,
   "id": "ea863d85",
   "metadata": {},
   "outputs": [
    {
     "name": "stdout",
     "output_type": "stream",
     "text": [
      "The true_rows\n",
      " ===>  [['Red', 1, 'Grape'], ['Red', 1, 'Grape']] \n",
      "The false_rows\n",
      " ===>  [['Green', 3, 'Apple'], ['Yellow', 3, 'Apple'], ['Yellow', 3, 'Lemon'], ['Yellow', 4, 'Lemon']]\n"
     ]
    }
   ],
   "source": [
    "true_rows, false_rows = partition(train_data, Query(0, 'Red'))\n",
    "\n",
    "print(\"The true_rows\\n ===> \", true_rows, \"\\nThe false_rows\\n ===> \", false_rows)"
   ]
  },
  {
   "cell_type": "code",
   "execution_count": 194,
   "id": "dc0eaece",
   "metadata": {},
   "outputs": [
    {
     "name": "stdout",
     "output_type": "stream",
     "text": [
      "Query?  Is diameter >= 3?\n",
      "The true_rows ===>  [['Green', 3, 'Apple'], ['Yellow', 3, 'Apple'], ['Yellow', 3, 'Lemon'], ['Yellow', 4, 'Lemon']] \n",
      "The false_rows ===>  [['Red', 1, 'Grape'], ['Red', 1, 'Grape']]\n"
     ]
    }
   ],
   "source": [
    "print('Query? ', Query(1,3))\n",
    "true_rows, false_rows = partition(train_data, Query(1, 3))\n",
    "\n",
    "print(\"The true_rows ===> \", true_rows, \"\\nThe false_rows ===> \", false_rows)"
   ]
  },
  {
   "cell_type": "code",
   "execution_count": 195,
   "id": "6da0333c",
   "metadata": {},
   "outputs": [
    {
     "name": "stdout",
     "output_type": "stream",
     "text": [
      "(1) Avg of Impurity = 0.1667 * 0.0000 + 0.8333 * 1.5219\n",
      "(2) Current uncertainty = 1.5850\n",
      "(3) Information gain = 0.3167\n"
     ]
    },
    {
     "data": {
      "text/plain": [
       "0.31668908831502085"
      ]
     },
     "execution_count": 195,
     "metadata": {},
     "output_type": "execute_result"
    }
   ],
   "source": [
    "current_uncertainty = entropy(train_data)\n",
    "true_rows, false_rows = partition(train_data, Query(0, 'Green'))\n",
    "info_gain(true_rows, false_rows, current_uncertainty)"
   ]
  },
  {
   "cell_type": "code",
   "execution_count": 196,
   "id": "096580b2",
   "metadata": {},
   "outputs": [],
   "source": [
    "def find_best_split(rows):\n",
    "    best_gain = 0\n",
    "    best_query = None\n",
    "\n",
    "    current_uncertainty = entropy(rows)\n",
    "    n_features = len(rows[0]) - 1\n",
    "\n",
    "    for col in range(n_features):\n",
    "        values = set([row[col] for row in rows])\n",
    "\n",
    "        for val in values:\n",
    "            query = Query(col,val)\n",
    "            true_rows, false_rows = partition(rows, query)\n",
    "\n",
    "            if len(true_rows) == 0 or len(false_rows) == 0:\n",
    "                continue\n",
    "\n",
    "            print('Qustion ====>>>> ', query)\n",
    "            gain = info_gain(true_rows, false_rows, current_uncertainty)\n",
    "\n",
    "            if gain >= best_gain:\n",
    "                best_gain, best_query = gain, query\n",
    "\n",
    "    return best_gain, best_query"
   ]
  },
  {
   "cell_type": "code",
   "execution_count": 197,
   "id": "2d84f3cb",
   "metadata": {},
   "outputs": [
    {
     "name": "stdout",
     "output_type": "stream",
     "text": [
      "Qustion ====>>>>  Is color == Yellow?\n",
      "(1) Avg of Impurity = 0.5000 * 0.9183 + 0.5000 * 0.9183\n",
      "(2) Current uncertainty = 1.5850\n",
      "(3) Information gain = 0.6667\n",
      "Qustion ====>>>>  Is color == Red?\n",
      "(1) Avg of Impurity = 0.3333 * 0.0000 + 0.6667 * 1.0000\n",
      "(2) Current uncertainty = 1.5850\n",
      "(3) Information gain = 0.9183\n",
      "Qustion ====>>>>  Is color == Green?\n",
      "(1) Avg of Impurity = 0.1667 * 0.0000 + 0.8333 * 1.5219\n",
      "(2) Current uncertainty = 1.5850\n",
      "(3) Information gain = 0.3167\n",
      "Qustion ====>>>>  Is diameter >= 3?\n",
      "(1) Avg of Impurity = 0.6667 * 1.0000 + 0.3333 * 0.0000\n",
      "(2) Current uncertainty = 1.5850\n",
      "(3) Information gain = 0.9183\n",
      "Qustion ====>>>>  Is diameter >= 4?\n",
      "(1) Avg of Impurity = 0.1667 * 0.0000 + 0.8333 * 1.5219\n",
      "(2) Current uncertainty = 1.5850\n",
      "(3) Information gain = 0.3167\n",
      "\n",
      "The best query ====>>>>>>  Is diameter >= 3?\n"
     ]
    }
   ],
   "source": [
    "best_gain, best_query = find_best_split(train_data)\n",
    "\n",
    "print(\"\\nThe best query ====>>>>>> \", best_query)"
   ]
  },
  {
   "cell_type": "code",
   "execution_count": 198,
   "id": "c5460fd2",
   "metadata": {},
   "outputs": [],
   "source": [
    "class Leaf:\n",
    "    \"\"\" A Leaf node classifies data.\n",
    "    \n",
    "        This hlod a dictionaty of class (e.g., \"Apple\") -> number of times\n",
    "        \"\"\"\n",
    "    \n",
    "    def __init__(self, rows):\n",
    "        self.predictions = class_count(rows)"
   ]
  },
  {
   "cell_type": "code",
   "execution_count": 199,
   "id": "8fa85701",
   "metadata": {},
   "outputs": [],
   "source": [
    "class Decision_Node:\n",
    "    \"\"\"A Decision Node asks a query.\n",
    "    \n",
    "    This holds a reference to query, and to the two child nodes.\n",
    "    \"\"\"\n",
    "\n",
    "    def __init__(self, query, true_branch, false_branch):\n",
    "        self.query = query\n",
    "        self.true_branch = true_branch\n",
    "        self.false_branch = false_branch"
   ]
  },
  {
   "cell_type": "code",
   "execution_count": 200,
   "id": "31899522",
   "metadata": {},
   "outputs": [],
   "source": [
    "def build_tree(rows):\n",
    "    \"\"\"Builds the tree.\n",
    "    Argumnets:\n",
    "    rows --- List of row data\n",
    "    \"\"\"\n",
    "    gain, query = find_best_split(rows)\n",
    "\n",
    "    if gain == 0:\n",
    "        return Leaf(rows)\n",
    "    \n",
    "    true_rows, false_rows = partition(rows, query)\n",
    "\n",
    "    true_branch = build_tree(true_rows)\n",
    "\n",
    "    false_rows = build_tree(false_rows)\n",
    "\n",
    "    return Decision_Node(query, true_branch, false_rows)"
   ]
  },
  {
   "cell_type": "code",
   "execution_count": 201,
   "id": "3a3655b8",
   "metadata": {},
   "outputs": [],
   "source": [
    "def print_tree(node, spacing = \"\"):\n",
    "    \"\"\"Tree printing function.\"\"\"\n",
    "\n",
    "    if isinstance(node, Leaf):\n",
    "        print(spacing + \"Predict\", node.predictions)\n",
    "        return\n",
    "    \n",
    "    print(spacing + str(node.query))\n",
    "\n",
    "    print(spacing + '--> True:')\n",
    "    print_tree(node.true_branch, spacing + \" \")\n",
    "\n",
    "    print(spacing + '--> False:')\n",
    "    print_tree(node.false_branch, spacing + \" \")"
   ]
  },
  {
   "cell_type": "code",
   "execution_count": 202,
   "id": "3331371f",
   "metadata": {},
   "outputs": [],
   "source": [
    "def classify(row, node):\n",
    "    if isinstance(node, Leaf):\n",
    "        return node.predictions\n",
    "    \n",
    "    if node.query.compare_with_query(row):\n",
    "        return classify(row, node.true_branch)\n",
    "    else:\n",
    "        return classify(row, node.false_branch)"
   ]
  },
  {
   "cell_type": "code",
   "execution_count": 203,
   "id": "ca1a12f5",
   "metadata": {},
   "outputs": [
    {
     "name": "stdout",
     "output_type": "stream",
     "text": [
      "Qustion ====>>>>  Is color == Yellow?\n",
      "(1) Avg of Impurity = 0.5000 * 0.9183 + 0.5000 * 0.9183\n",
      "(2) Current uncertainty = 1.5850\n",
      "(3) Information gain = 0.6667\n",
      "Qustion ====>>>>  Is color == Red?\n",
      "(1) Avg of Impurity = 0.3333 * 0.0000 + 0.6667 * 1.0000\n",
      "(2) Current uncertainty = 1.5850\n",
      "(3) Information gain = 0.9183\n",
      "Qustion ====>>>>  Is color == Green?\n",
      "(1) Avg of Impurity = 0.1667 * 0.0000 + 0.8333 * 1.5219\n",
      "(2) Current uncertainty = 1.5850\n",
      "(3) Information gain = 0.3167\n",
      "Qustion ====>>>>  Is diameter >= 3?\n",
      "(1) Avg of Impurity = 0.6667 * 1.0000 + 0.3333 * 0.0000\n",
      "(2) Current uncertainty = 1.5850\n",
      "(3) Information gain = 0.9183\n",
      "Qustion ====>>>>  Is diameter >= 4?\n",
      "(1) Avg of Impurity = 0.1667 * 0.0000 + 0.8333 * 1.5219\n",
      "(2) Current uncertainty = 1.5850\n",
      "(3) Information gain = 0.3167\n",
      "Qustion ====>>>>  Is color == Yellow?\n",
      "(1) Avg of Impurity = 0.7500 * 0.9183 + 0.2500 * 0.0000\n",
      "(2) Current uncertainty = 1.0000\n",
      "(3) Information gain = 0.3113\n",
      "Qustion ====>>>>  Is color == Green?\n",
      "(1) Avg of Impurity = 0.2500 * 0.0000 + 0.7500 * 0.9183\n",
      "(2) Current uncertainty = 1.0000\n",
      "(3) Information gain = 0.3113\n",
      "Qustion ====>>>>  Is diameter >= 4?\n",
      "(1) Avg of Impurity = 0.2500 * 0.0000 + 0.7500 * 0.9183\n",
      "(2) Current uncertainty = 1.0000\n",
      "(3) Information gain = 0.3113\n",
      "Qustion ====>>>>  Is color == Yellow?\n",
      "(1) Avg of Impurity = 0.6667 * 1.0000 + 0.3333 * 0.0000\n",
      "(2) Current uncertainty = 0.9183\n",
      "(3) Information gain = 0.2516\n",
      "Qustion ====>>>>  Is color == Green?\n",
      "(1) Avg of Impurity = 0.3333 * 0.0000 + 0.6667 * 1.0000\n",
      "(2) Current uncertainty = 0.9183\n",
      "(3) Information gain = 0.2516\n",
      "<class '__main__.Decision_Node'>\n"
     ]
    }
   ],
   "source": [
    "my_tree = build_tree(train_data)\n",
    "print(type(my_tree))"
   ]
  },
  {
   "cell_type": "code",
   "execution_count": 204,
   "id": "1244f9b8",
   "metadata": {},
   "outputs": [
    {
     "name": "stdout",
     "output_type": "stream",
     "text": [
      "Is diameter >= 3?\n",
      "--> True:\n",
      " Is diameter >= 4?\n",
      " --> True:\n",
      "  Predict {'Lemon': 1}\n",
      " --> False:\n",
      "  Is color == Yellow?\n",
      "  --> True:\n",
      "   Predict {'Apple': 1, 'Lemon': 1}\n",
      "  --> False:\n",
      "   Predict {'Apple': 1}\n",
      "--> False:\n",
      " Predict {'Grape': 2}\n"
     ]
    }
   ],
   "source": [
    "print_tree(my_tree)"
   ]
  },
  {
   "cell_type": "code",
   "execution_count": 205,
   "id": "78856e08",
   "metadata": {},
   "outputs": [
    {
     "data": {
      "text/plain": [
       "{'Apple': 1}"
      ]
     },
     "execution_count": 205,
     "metadata": {},
     "output_type": "execute_result"
    }
   ],
   "source": [
    "classify(train_data[0], my_tree)"
   ]
  },
  {
   "cell_type": "code",
   "execution_count": 210,
   "id": "d9acc6e3",
   "metadata": {},
   "outputs": [],
   "source": [
    "def print_leaf(counts):\n",
    "    \"\"\"A nicer way to print the predictions at a leaf.\"\"\"\n",
    "    total = sum(counts.values()) * 1.0\n",
    "    probs = {}\n",
    "\n",
    "    for lbl in counts.keys():\n",
    "        probs[lbl] = str(int(counts[lbl] / total * 100)) + \"%\"\n",
    "    \n",
    "    return probs"
   ]
  },
  {
   "cell_type": "code",
   "execution_count": 211,
   "id": "2ef803f1",
   "metadata": {},
   "outputs": [
    {
     "data": {
      "text/plain": [
       "{'Apple': '100%'}"
      ]
     },
     "execution_count": 211,
     "metadata": {},
     "output_type": "execute_result"
    }
   ],
   "source": [
    "print_leaf(classify(train_data[0], my_tree))"
   ]
  },
  {
   "cell_type": "code",
   "execution_count": null,
   "id": "ddb0538e",
   "metadata": {},
   "outputs": [],
   "source": []
  },
  {
   "cell_type": "code",
   "execution_count": null,
   "id": "a4536ca9",
   "metadata": {},
   "outputs": [],
   "source": []
  },
  {
   "cell_type": "code",
   "execution_count": null,
   "id": "8014f592",
   "metadata": {},
   "outputs": [],
   "source": []
  }
 ],
 "metadata": {
  "kernelspec": {
   "display_name": "py311",
   "language": "python",
   "name": "python3"
  },
  "language_info": {
   "codemirror_mode": {
    "name": "ipython",
    "version": 3
   },
   "file_extension": ".py",
   "mimetype": "text/x-python",
   "name": "python",
   "nbconvert_exporter": "python",
   "pygments_lexer": "ipython3",
   "version": "3.11.11"
  }
 },
 "nbformat": 4,
 "nbformat_minor": 5
}
