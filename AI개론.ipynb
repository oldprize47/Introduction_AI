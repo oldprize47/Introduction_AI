{
 "cells": [
  {
   "cell_type": "code",
   "execution_count": 8,
   "metadata": {
    "colab": {
     "base_uri": "https://localhost:8080/"
    },
    "id": "3lDwlN37Ydeh",
    "outputId": "09ae841a-11a0-4e8e-a06e-38146f19fb23"
   },
   "outputs": [
    {
     "name": "stdout",
     "output_type": "stream",
     "text": [
      "Age:  21\n",
      "<class 'int'>\n",
      "Temperature:  36.5\n",
      "<class 'float'>\n",
      "Temperature (integer):  36\n"
     ]
    }
   ],
   "source": [
    "my_age = 21\n",
    "temperature = 36.5\n",
    "\n",
    "print(\"Age: \", my_age)\n",
    "print(type(my_age))\n",
    "print(\"Temperature: \", temperature)\n",
    "print(type(temperature))\n",
    "\n",
    "print(\"Temperature (integer): \", int(temperature))"
   ]
  },
  {
   "cell_type": "code",
   "execution_count": 9,
   "metadata": {
    "colab": {
     "base_uri": "https://localhost:8080/"
    },
    "id": "e6bNakK9ZDti",
    "outputId": "2791eb5c-8e13-4697-9db7-2ff607775f0d"
   },
   "outputs": [
    {
     "name": "stdout",
     "output_type": "stream",
     "text": [
      "My name is:  John Doe\n",
      "8\n",
      "JOHN DOE\n"
     ]
    }
   ],
   "source": [
    "first_name = \"John\"\n",
    "last_name = \"Doe\"\n",
    "full_name = first_name + \" \" + last_name\n",
    "\n",
    "print(\"My name is: \", full_name)\n",
    "print(len(full_name))\n",
    "print(full_name.upper())"
   ]
  },
  {
   "cell_type": "code",
   "execution_count": 11,
   "metadata": {
    "colab": {
     "base_uri": "https://localhost:8080/"
    },
    "id": "vxPCATSNavVP",
    "outputId": "505428ba-4fd0-4284-8852-96187e98f672"
   },
   "outputs": [
    {
     "name": "stdout",
     "output_type": "stream",
     "text": [
      "['apple', 'banana', 'orange', 'grape']\n",
      "apple\n",
      "grape\n",
      "['banana', 'orange']\n"
     ]
    }
   ],
   "source": [
    "fruits = [\"apple\", \"banana\", \"orange\"]\n",
    "fruits.append(\"grape\")\n",
    "print(fruits)\n",
    "\n",
    "print(fruits[0])\n",
    "print(fruits[-1])\n",
    "print(fruits[1:3]) # selcet only 1 & 2, not include 3"
   ]
  },
  {
   "cell_type": "code",
   "execution_count": 14,
   "metadata": {
    "colab": {
     "base_uri": "https://localhost:8080/",
     "height": 205
    },
    "id": "avwI7NZ6btSx",
    "outputId": "78962143-66e8-42a1-8c0a-d9a8ad76b2cb"
   },
   "outputs": [
    {
     "name": "stdout",
     "output_type": "stream",
     "text": [
      "(37.5, 127.0)\n"
     ]
    },
    {
     "ename": "TypeError",
     "evalue": "'tuple' object does not support item assignment",
     "output_type": "error",
     "traceback": [
      "\u001b[0;31m---------------------------------------------------------------------------\u001b[0m",
      "\u001b[0;31mTypeError\u001b[0m                                 Traceback (most recent call last)",
      "\u001b[0;32m<ipython-input-14-a9ab590d99c5>\u001b[0m in \u001b[0;36m<cell line: 0>\u001b[0;34m()\u001b[0m\n\u001b[1;32m      2\u001b[0m \u001b[0mprint\u001b[0m\u001b[0;34m(\u001b[0m\u001b[0mcoordinates\u001b[0m\u001b[0;34m)\u001b[0m\u001b[0;34m\u001b[0m\u001b[0;34m\u001b[0m\u001b[0m\n\u001b[1;32m      3\u001b[0m \u001b[0;34m\u001b[0m\u001b[0m\n\u001b[0;32m----> 4\u001b[0;31m \u001b[0mcoordinates\u001b[0m\u001b[0;34m[\u001b[0m\u001b[0;36m0\u001b[0m\u001b[0;34m]\u001b[0m \u001b[0;34m=\u001b[0m \u001b[0;36m40\u001b[0m\u001b[0;34m\u001b[0m\u001b[0;34m\u001b[0m\u001b[0m\n\u001b[0m",
      "\u001b[0;31mTypeError\u001b[0m: 'tuple' object does not support item assignment"
     ]
    }
   ],
   "source": [
    "coordinates = (37.5, 127.0)\n",
    "print(coordinates)\n",
    "\n",
    "coordinates[0] = 40\n"
   ]
  },
  {
   "cell_type": "code",
   "execution_count": 17,
   "metadata": {
    "colab": {
     "base_uri": "https://localhost:8080/"
    },
    "id": "V7FeeyXLcIaF",
    "outputId": "969d494f-57c9-4c1f-adbf-8608a98d4eaf"
   },
   "outputs": [
    {
     "name": "stdout",
     "output_type": "stream",
     "text": [
      "{'name': 'John', 'age': 21, 'major': 'Computer Science'}\n",
      "Computer Science\n",
      "dict_items([('name', 'John'), ('age', 21), ('major', 'Computer Science'), (5, 10)])\n"
     ]
    }
   ],
   "source": [
    "student_info = {\"name\": \"John\", \"age\": 21, \"major\": \"Computer Science\"}\n",
    "print(student_info)\n",
    "print(student_info['major'])\n",
    "student_info[5] = 10\n",
    "print(student_info.items())"
   ]
  },
  {
   "cell_type": "code",
   "execution_count": 19,
   "metadata": {
    "colab": {
     "base_uri": "https://localhost:8080/"
    },
    "id": "5LetCzBvceQ1",
    "outputId": "c9e09e8c-369d-4478-e332-c1e924ee7c1d"
   },
   "outputs": [
    {
     "name": "stdout",
     "output_type": "stream",
     "text": [
      "Enter yout name: sangheon\n",
      "Enter your age: 27\n",
      "Hello, sangheon! you are 27 years old.\n",
      "Nice to meet you,  sangheon\n",
      "Nice to meet you, sangheon\n",
      "Nice to meet you, sangheon\n"
     ]
    }
   ],
   "source": [
    "name = input(\"Enter yout name: \")\n",
    "age = int(input(\"Enter your age: \"))\n",
    "\n",
    "print(f\"Hello, {name}! you are {age} years old.\")\n",
    "\n",
    "print(\"Nice to meet you,\",name)\n",
    "print(f\"Nice to meet you, {name}\")\n",
    "print(\"Nice to meet you, {}\".format(name))"
   ]
  },
  {
   "cell_type": "code",
   "execution_count": 23,
   "metadata": {
    "colab": {
     "base_uri": "https://localhost:8080/"
    },
    "id": "7BcHFwT2d_kU",
    "outputId": "415826d2-9317-4e6c-af8f-f83dc378f4cc"
   },
   "outputs": [
    {
     "name": "stdout",
     "output_type": "stream",
     "text": [
      "Excellent!\n"
     ]
    }
   ],
   "source": [
    "score = 100\n",
    "\n",
    "if score >= 90:\n",
    "  print(\"Excellent!\")\n",
    "elif score >= 70:\n",
    "  print(\"Good\")\n",
    "else:\n",
    "  print(\"keep Trying!\")"
   ]
  },
  {
   "cell_type": "code",
   "execution_count": 25,
   "metadata": {
    "colab": {
     "base_uri": "https://localhost:8080/"
    },
    "id": "tSEbDQeneY6N",
    "outputId": "8f628133-c106-4c58-fcc8-e7338d138118"
   },
   "outputs": [
    {
     "name": "stdout",
     "output_type": "stream",
     "text": [
      "Hello!\n",
      "Hello!\n",
      "Hello!\n",
      "Hello!\n",
      "Hello!\n"
     ]
    }
   ],
   "source": [
    "count = 0\n",
    "while count < 5:\n",
    "  print(\"Hello!\")\n",
    "  count += 1\n"
   ]
  },
  {
   "cell_type": "code",
   "execution_count": 26,
   "metadata": {
    "colab": {
     "base_uri": "https://localhost:8080/"
    },
    "id": "O4xouAkKeucC",
    "outputId": "d3a8cf21-3c01-4bb0-ce9d-2e1f889a00de"
   },
   "outputs": [
    {
     "name": "stdout",
     "output_type": "stream",
     "text": [
      "range(5):  0\n",
      "range(5):  1\n",
      "range(5):  2\n",
      "range(5):  3\n",
      "range(5):  4\n",
      "range(1, 6):  1\n",
      "range(1, 6):  2\n",
      "range(1, 6):  3\n",
      "range(1, 6):  4\n",
      "range(1, 6):  5\n",
      "range(1, 10, 2):  1\n",
      "range(1, 10, 2):  3\n",
      "range(1, 10, 2):  5\n",
      "range(1, 10, 2):  7\n",
      "range(1, 10, 2):  9\n",
      "apple\n",
      "banana\n",
      "orange\n",
      "grape\n"
     ]
    }
   ],
   "source": [
    "for number in range(5):\n",
    "  print(\"range(5): \", number)\n",
    "\n",
    "for number in range(1, 6):\n",
    "  print(\"range(1, 6): \", number)\n",
    "\n",
    "for number in range(1, 10, 2):\n",
    "  print(\"range(1, 10, 2): \", number)\n",
    "\n",
    "for fruit in fruits:\n",
    "  print(fruit)"
   ]
  },
  {
   "cell_type": "code",
   "execution_count": 39,
   "metadata": {
    "colab": {
     "base_uri": "https://localhost:8080/"
    },
    "id": "42Pqn8xcfaRD",
    "outputId": "0e1834c8-db29-4dd1-acbf-0d06fc07d3f0"
   },
   "outputs": [
    {
     "name": "stdout",
     "output_type": "stream",
     "text": [
      "* * * * \n",
      "  * * * \n",
      "    * * \n",
      "      * \n"
     ]
    }
   ],
   "source": [
    "for line in range(4):\n",
    "  for space in range(line):\n",
    "    print(\" \", end=\" \")\n",
    "  for stars in range(4 - line):\n",
    "    print(\"*\", end=\" \")\n",
    "  print()"
   ]
  },
  {
   "cell_type": "code",
   "execution_count": null,
   "metadata": {
    "id": "UkqMnGeJhwvC"
   },
   "outputs": [],
   "source": []
  }
 ],
 "metadata": {
  "colab": {
   "provenance": []
  },
  "kernelspec": {
   "display_name": "Python 3 (ipykernel)",
   "language": "python",
   "name": "python3"
  },
  "language_info": {
   "codemirror_mode": {
    "name": "ipython",
    "version": 3
   },
   "file_extension": ".py",
   "mimetype": "text/x-python",
   "name": "python",
   "nbconvert_exporter": "python",
   "pygments_lexer": "ipython3",
   "version": "3.11.11"
  }
 },
 "nbformat": 4,
 "nbformat_minor": 4
}
