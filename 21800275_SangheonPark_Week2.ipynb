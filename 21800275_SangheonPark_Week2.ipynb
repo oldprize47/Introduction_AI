{
 "cells": [
  {
   "cell_type": "code",
   "execution_count": 1,
   "id": "565fa29f-97fa-422b-a811-633133782746",
   "metadata": {},
   "outputs": [
    {
     "name": "stdin",
     "output_type": "stream",
     "text": [
      "How many lines?  7\n"
     ]
    },
    {
     "name": "stdout",
     "output_type": "stream",
     "text": [
      "*******\n",
      "\n",
      " ******\n",
      "\n",
      "  *****\n",
      "\n",
      "   ****\n",
      "\n",
      "    ***\n",
      "\n",
      "     **\n",
      "\n",
      "      *\n",
      "\n"
     ]
    }
   ],
   "source": [
    "num = int(input(\"How many lines? \"))\n",
    "\n",
    "for line in range(num):\n",
    "  for space in range(line):\n",
    "    print(\" \", end=\"\")\n",
    "  for stars in range(num - line):\n",
    "    print(\"*\", end=\"\")\n",
    "  print(\"\\n\")"
   ]
  },
  {
   "cell_type": "code",
   "execution_count": 2,
   "id": "473fa89f-f4f0-49d2-b65a-371744ae59c2",
   "metadata": {},
   "outputs": [
    {
     "name": "stdin",
     "output_type": "stream",
     "text": [
      "Enter the start day (0-6) >>  5\n",
      "Enter the number of days (28-31) >>  30\n"
     ]
    },
    {
     "name": "stdout",
     "output_type": "stream",
     "text": [
      "Sun Mon Tue Wed Thu Fri Sat\n",
      "                      1   2 \n",
      "  3   4   5   6   7   8   9 \n",
      " 10  11  12  13  14  15  16 \n",
      " 17  18  19  20  21  22  23 \n",
      " 24  25  26  27  28  29  30 "
     ]
    }
   ],
   "source": [
    "start_day = 7\n",
    "days = 0\n",
    "while start_day < 0 or start_day > 6:\n",
    "    start_day = int(input(\"Enter the start day (0-6) >> \"))\n",
    "    \n",
    "while days < 28 or days > 31:\n",
    "    days = int(input(\"Enter the number of days (28-31) >> \"))\n",
    "\n",
    "print(\"Sun Mon Tue Wed Thu Fri Sat\")\n",
    "for space in range(start_day):\n",
    "    print(\"   \",end = \" \")\n",
    "for num in range(days):\n",
    "    if ((num+start_day)%7) == 0 and (num != 0):\n",
    "        print()\n",
    "    print(\"{:3d}\".format(num+1), end = \" \")"
   ]
  },
  {
   "cell_type": "code",
   "execution_count": null,
   "id": "d7303fd3-25b4-4f75-83fa-70ef572a286e",
   "metadata": {},
   "outputs": [],
   "source": []
  }
 ],
 "metadata": {
  "kernelspec": {
   "display_name": "Python 3 (ipykernel)",
   "language": "python",
   "name": "python3"
  },
  "language_info": {
   "codemirror_mode": {
    "name": "ipython",
    "version": 3
   },
   "file_extension": ".py",
   "mimetype": "text/x-python",
   "name": "python",
   "nbconvert_exporter": "python",
   "pygments_lexer": "ipython3",
   "version": "3.11.11"
  }
 },
 "nbformat": 4,
 "nbformat_minor": 5
}
